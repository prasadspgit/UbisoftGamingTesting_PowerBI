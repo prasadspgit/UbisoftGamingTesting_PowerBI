{
 "cells": [
  {
   "cell_type": "code",
   "execution_count": 5,
   "id": "6368458b-776f-42fc-b83f-44ef66056127",
   "metadata": {},
   "outputs": [
    {
     "name": "stdout",
     "output_type": "stream",
     "text": [
      "Requirement already satisfied: pandas in c:\\users\\prasa\\appdata\\local\\programs\\python\\python38\\lib\\site-packages (2.0.3)\n",
      "Requirement already satisfied: python-dateutil>=2.8.2 in c:\\users\\prasa\\appdata\\local\\programs\\python\\python38\\lib\\site-packages (from pandas) (2.8.2)\n",
      "Requirement already satisfied: pytz>=2020.1 in c:\\users\\prasa\\appdata\\local\\programs\\python\\python38\\lib\\site-packages (from pandas) (2023.3.post1)\n",
      "Requirement already satisfied: tzdata>=2022.1 in c:\\users\\prasa\\appdata\\local\\programs\\python\\python38\\lib\\site-packages (from pandas) (2023.4)\n",
      "Requirement already satisfied: numpy>=1.20.3 in c:\\users\\prasa\\appdata\\local\\programs\\python\\python38\\lib\\site-packages (from pandas) (1.24.4)\n",
      "Requirement already satisfied: six>=1.5 in c:\\users\\prasa\\appdata\\local\\programs\\python\\python38\\lib\\site-packages (from python-dateutil>=2.8.2->pandas) (1.16.0)\n"
     ]
    }
   ],
   "source": [
    "!pip install pandas\n",
    "\n",
    "import pandas as pd"
   ]
  },
  {
   "cell_type": "code",
   "execution_count": 8,
   "id": "1996f648-c1e4-46ab-9ca7-48168c8ed835",
   "metadata": {},
   "outputs": [],
   "source": [
    "filepath_d1 = r\"C:\\Users\\prasa\\OneDrive\\Desktop\\UBISOFT\\Ubisoft Data\\game_mode_data.csv\"\n",
    "filepath_d2 = r\"C:\\Users\\prasa\\OneDrive\\Desktop\\UBISOFT\\Ubisoft Data\\game_map_data.csv\"\n",
    "filepath_d3 = r\"C:\\Users\\prasa\\OneDrive\\Desktop\\UBISOFT\\Ubisoft Data\\game_skill_data.csv\"\n",
    "filepath_d4 = r\"C:\\Users\\prasa\\OneDrive\\Desktop\\UBISOFT\\Ubisoft Data\\game_hero_data.csv\""
   ]
  },
  {
   "cell_type": "code",
   "execution_count": 10,
   "id": "5b9c8784-7399-43b3-8829-edf22cbc0ef7",
   "metadata": {},
   "outputs": [],
   "source": [
    "data_1 = pd.read_csv(filepath_d1)\n",
    "data_2 = pd.read_csv(filepath_d2)\n",
    "data_3 = pd.read_csv(filepath_d3)\n",
    "data_4 = pd.read_csv(filepath_d4)"
   ]
  },
  {
   "cell_type": "code",
   "execution_count": 14,
   "id": "d65916da-b00b-49ec-9d5b-7f724febf9a7",
   "metadata": {},
   "outputs": [
    {
     "name": "stdout",
     "output_type": "stream",
     "text": [
      "        build subfeature  playtime       fps                     date\n",
      "0  liveday_26        ABC   43787.0  78.64268  2023-03-31 10:39:29.997\n",
      "1  liveday_26        DEF   44828.0  99.92581  2023-03-31 10:57:41.119\n",
      "2  liveday_26        ABC   43187.0  93.38685  2023-03-31 10:28:37.737\n",
      "3  liveday_26        GHI   39445.0  76.41879  2023-03-31 09:24:33.388\n",
      "4  liveday_26        ABC   39830.0  78.24288  2023-03-31 09:31:50.069\n"
     ]
    }
   ],
   "source": [
    "print(data_1.head())"
   ]
  },
  {
   "cell_type": "code",
   "execution_count": 15,
   "id": "88dc51c1-ea70-46df-a67f-0d554b0c3547",
   "metadata": {},
   "outputs": [
    {
     "name": "stdout",
     "output_type": "stream",
     "text": [
      "        build subfeature  playtime       fps                     date\n",
      "0  liveday_26        One   43787.0  78.64268  2023-03-31 10:39:29.997\n",
      "1  liveday_26        Two   44828.0  99.92581  2023-03-31 10:57:41.119\n",
      "2  liveday_26      Three   43187.0  93.38685  2023-03-31 10:28:37.737\n",
      "3  liveday_26       Four   39445.0  76.41879  2023-03-31 09:24:33.388\n",
      "4  liveday_26        One   39830.0  78.24288  2023-03-31 09:31:50.069\n"
     ]
    }
   ],
   "source": [
    "print(data_2.head())"
   ]
  },
  {
   "cell_type": "code",
   "execution_count": 16,
   "id": "d9f6ab92-cf49-478c-a0e6-7e3039c5c3b6",
   "metadata": {},
   "outputs": [
    {
     "name": "stdout",
     "output_type": "stream",
     "text": [
      "        build subfeature  playtime       fps                     date\n",
      "0  liveday_26      Apple   43787.0  78.64268  2023-03-31 10:39:29.997\n",
      "1  liveday_26     Banana   44828.0  99.92581  2023-03-31 10:57:41.119\n",
      "2  liveday_26      Apple   43187.0  93.38685  2023-03-31 10:28:37.737\n",
      "3  liveday_26     Orange   39445.0  76.41879  2023-03-31 09:24:33.388\n",
      "4  liveday_26      Apple   39830.0  78.24288  2023-03-31 09:31:50.069\n"
     ]
    }
   ],
   "source": [
    "print(data_3.head())"
   ]
  },
  {
   "cell_type": "code",
   "execution_count": 17,
   "id": "2845ee16-0ebf-4cf2-b796-981336ab53ea",
   "metadata": {},
   "outputs": [
    {
     "name": "stdout",
     "output_type": "stream",
     "text": [
      "  herogen  herolvl  herornwn     ldtitid  \\\n",
      "0       F       17         1  0xbebe61f6   \n",
      "1       F       17         1  0xbebe61f6   \n",
      "2       F       17         1  0xbebe61f6   \n",
      "3       F       17         1  0xbebe61f6   \n",
      "4       F       17         1  0xbebe61f6   \n",
      "\n",
      "                              sessionid  serverdateid  \\\n",
      "0  00071346-8bf1-489a-a567-2a5db95b7ca7      20230810   \n",
      "1  00071346-8bf1-489a-a567-2a5db95b7ca7      20230810   \n",
      "2  00071346-8bf1-489a-a567-2a5db95b7ca7      20230810   \n",
      "3  00071346-8bf1-489a-a567-2a5db95b7ca7      20230810   \n",
      "4  00071346-8bf1-489a-a567-2a5db95b7ca7      20230810   \n",
      "\n",
      "                             buildversion  \n",
      "0  TU_PS4_27.2200_C7727517_D415101_S16420  \n",
      "1  TU_PS4_27.2200_C7727517_D415101_S16420  \n",
      "2  TU_PS4_27.2200_C7727517_D415101_S16420  \n",
      "3  TU_PS4_27.2200_C7727517_D415101_S16420  \n",
      "4  TU_PS4_27.2200_C7727517_D415101_S16420  \n"
     ]
    }
   ],
   "source": [
    "print(data_4.head())"
   ]
  },
  {
   "cell_type": "code",
   "execution_count": null,
   "id": "79940857-c023-4ecd-97c3-be00dd5c470b",
   "metadata": {},
   "outputs": [],
   "source": []
  }
 ],
 "metadata": {
  "kernelspec": {
   "display_name": "Python 3 (ipykernel)",
   "language": "python",
   "name": "python3"
  },
  "language_info": {
   "codemirror_mode": {
    "name": "ipython",
    "version": 3
   },
   "file_extension": ".py",
   "mimetype": "text/x-python",
   "name": "python",
   "nbconvert_exporter": "python",
   "pygments_lexer": "ipython3",
   "version": "3.8.10"
  }
 },
 "nbformat": 4,
 "nbformat_minor": 5
}
